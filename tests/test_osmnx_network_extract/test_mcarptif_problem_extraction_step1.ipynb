{
 "cells": [
  {
   "cell_type": "markdown",
   "metadata": {},
   "source": [
    "# Problem conversion"
   ]
  },
  {
   "cell_type": "markdown",
   "metadata": {},
   "source": [
    "Moving from raw problem instance data to MCAPRTIF via pytables."
   ]
  },
  {
   "cell_type": "code",
   "execution_count": 443,
   "metadata": {},
   "outputs": [
    {
     "name": "stdout",
     "output_type": "stream",
     "text": [
      "The autoreload extension is already loaded. To reload it, use:\n",
      "  %reload_ext autoreload\n"
     ]
    }
   ],
   "source": [
    "%load_ext autoreload\n",
    "%autoreload 2\n",
    "\n",
    "# Show all code cells outputs\n",
    "from IPython.core.interactiveshell import InteractiveShell\n",
    "InteractiveShell.ast_node_interactivity = 'all'\n",
    "\n",
    "import logging\n",
    "logging.basicConfig(level=logging.INFO)\n",
    "\n",
    "import os\n",
    "import sys\n",
    "sys.path.insert(0, os.path.abspath('../../'))"
   ]
  },
  {
   "cell_type": "code",
   "execution_count": 2,
   "metadata": {},
   "outputs": [],
   "source": [
    "import pandas as pd\n",
    "import geopandas as gpd\n",
    "from shapely import wkt\n",
    "import numpy as np"
   ]
  },
  {
   "cell_type": "code",
   "execution_count": 3,
   "metadata": {},
   "outputs": [
    {
     "name": "stderr",
     "output_type": "stream",
     "text": [
      "INFO:numexpr.utils:NumExpr defaulting to 8 threads.\n"
     ]
    }
   ],
   "source": [
    "from osmnx_network_extract.extract_mcarptif import NetworkExtract"
   ]
  },
  {
   "cell_type": "code",
   "execution_count": 4,
   "metadata": {},
   "outputs": [
    {
     "name": "stderr",
     "output_type": "stream",
     "text": [
      "/Users/ejwillemse/opt/anaconda3/envs/waste_labs_examples/lib/python3.8/site-packages/IPython/core/interactiveshell.py:3062: DtypeWarning: Columns (14,17,19,25) have mixed types.Specify dtype option on import or set low_memory=False.\n",
      "  has_raised = await self.run_ast_nodes(code_ast.body, cell_name,\n"
     ]
    }
   ],
   "source": [
    "network_file = '../../../hobbes_projects/wasted_large_instances/outputs/city_punggol_full_internal_50m_buffer.h5'\n",
    "test_network = pd.read_csv('../../../hobbes_projects/wasted_large_instances/outputs/city_punggol_full_internal_50m_buffer_original_dataframe.csv')\n",
    "test_network = test_network.drop(columns=['Unnamed: 0'])"
   ]
  },
  {
   "cell_type": "code",
   "execution_count": 239,
   "metadata": {},
   "outputs": [],
   "source": [
    "test_size = 1000\n",
    "\n",
    "sample = np.random.randint(0, test_network.shape[0], size=test_size)\n",
    "sample = np.unique(sample)\n",
    "req_arcs = test_network.iloc[sample, :].copy()\n",
    "req_arcs = req_arcs.sort_values(['arc_index'])\n",
    "req_arcs = req_arcs.drop_duplicates(['arc_id_ordered'])\n",
    "req_arcs = req_arcs.dropna(subset=['geometry'])\n",
    "req_arcs['geometry'] = req_arcs['geometry'].apply(wkt.loads)\n",
    "req_arcs = gpd.GeoDataFrame(req_arcs, geometry=req_arcs['geometry'], crs='EPSG:4326')\n",
    "\n",
    "_ = req_arcs.plot(figsize=(10, 10), linewidth=2.5)"
   ]
  },
  {
   "cell_type": "code",
   "execution_count": 240,
   "metadata": {},
   "outputs": [
    {
     "data": {
      "text/plain": [
       "False"
      ]
     },
     "execution_count": 240,
     "metadata": {},
     "output_type": "execute_result"
    }
   ],
   "source": [
    "test_network.duplicated(['arc_index']).any()"
   ]
  },
  {
   "cell_type": "markdown",
   "metadata": {},
   "source": [
    "## Network testing starts here"
   ]
  },
  {
   "cell_type": "code",
   "execution_count": 243,
   "metadata": {},
   "outputs": [],
   "source": [
    "network_info = NetworkExtract(test_network, network_file)\n",
    "\n",
    "depot = req_arcs['arc_index'].iloc[0]\n",
    "ifs = req_arcs['arc_index'].iloc[-4:]\n",
    "\n",
    "network_info.load_required_arcs(req_arcs)\n",
    "network_info.set_depot_arc(depot)\n",
    "network_info.set_if_arcs(ifs)\n",
    "network_info.loc_in_required_arcs()\n",
    "network_info.extend_required_inverse_arcs()\n",
    "network_info.load_distance_matrix()\n",
    "network_info.offload_calculations()"
   ]
  },
  {
   "cell_type": "code",
   "execution_count": 244,
   "metadata": {},
   "outputs": [
    {
     "name": "stderr",
     "output_type": "stream",
     "text": [
      "INFO:root:Update travel durations.\n",
      "INFO:root:Update offload durations.\n"
     ]
    }
   ],
   "source": [
    "network_info.set_travel_speed(10000)\n",
    "network_info.set_offload_time(10000)\n",
    "network_info.update_cost_matrix()\n",
    "network_info.update_offload_cost()"
   ]
  },
  {
   "cell_type": "code",
   "execution_count": 245,
   "metadata": {},
   "outputs": [
    {
     "data": {
      "text/plain": [
       "array([   27, 33309, 33322, ..., 33029, 33028, 33058])"
      ]
     },
     "execution_count": 245,
     "metadata": {},
     "output_type": "execute_result"
    }
   ],
   "source": [
    "network_info.reqArcList"
   ]
  },
  {
   "cell_type": "code",
   "execution_count": 246,
   "metadata": {},
   "outputs": [
    {
     "data": {
      "text/plain": [
       "array([   5,    6,    7, ..., 1359, 1360, 1361])"
      ]
     },
     "execution_count": 246,
     "metadata": {},
     "output_type": "execute_result"
    }
   ],
   "source": [
    "network_info.reqArcListActual"
   ]
  },
  {
   "cell_type": "code",
   "execution_count": 247,
   "metadata": {},
   "outputs": [
    {
     "data": {
      "text/plain": [
       "array([ 11,  17,  19,  22,  27,  30,  31,  49,  50,  53,  67,  88,  98,\n",
       "        99, 119, 131, 134, 135, 147, 151, 171, 175, 180, 194, 196, 226,\n",
       "       233, 234, 236, 238, 242, 244, 256, 276, 278, 279, 280, 283, 284,\n",
       "       285, 286, 289, 290, 291, 296, 297, 298, 301, 304, 305, 307, 308,\n",
       "       310, 311, 312, 314, 317, 318, 319, 321, 322, 323, 324, 326, 327,\n",
       "       332, 333, 336, 339, 340, 341, 342, 343, 344, 345, 346, 347, 352,\n",
       "       353, 356, 357, 358, 359, 360, 363, 365, 366, 367, 368, 370, 372,\n",
       "       373, 374, 375, 378, 379, 381, 382, 383, 384, 385, 386, 387, 390,\n",
       "       391, 393, 395, 396, 397, 398, 399, 402, 404, 405, 408, 412, 413,\n",
       "       417, 418, 419, 420, 421, 422, 423, 425, 426, 427, 428, 430, 431,\n",
       "       432, 433, 435, 436, 437, 438, 440, 443, 444, 445, 446, 449, 451,\n",
       "       452, 453, 456, 457, 458, 459, 461, 462, 463, 465, 469, 470, 471,\n",
       "       473, 474, 475, 480, 485, 486, 487, 494, 496, 497, 503, 507, 508,\n",
       "       510, 511, 513, 515, 517, 518, 519, 521, 522, 523, 524, 525, 526,\n",
       "       527, 528, 532, 534, 535, 538, 541, 550, 553, 554, 557, 559, 560,\n",
       "       561, 562, 565, 566, 567, 568, 570, 571, 572, 574, 575, 576, 577,\n",
       "       578, 579, 580, 581, 582, 583, 584, 585, 586, 587, 589, 591, 592,\n",
       "       593, 598, 599, 601, 606, 609, 611, 612, 613, 618, 620, 622, 623,\n",
       "       624, 626, 628, 630, 633, 634, 635, 636, 638, 639, 642, 643, 644,\n",
       "       648, 649, 651, 652, 653, 654, 655, 656, 657, 658, 659, 660, 661,\n",
       "       662, 663, 664, 667, 668, 669, 670, 673, 674, 675, 676, 677, 679,\n",
       "       680, 681, 682, 683, 685, 686, 687, 688, 689, 690, 692, 697, 698,\n",
       "       699, 700, 701, 703, 706, 708, 709, 710, 712, 713, 714, 715, 716,\n",
       "       717, 720, 722, 723, 724, 725, 726, 729, 730, 731, 735, 736, 737,\n",
       "       739, 740, 741, 742, 743, 744, 745, 746, 747, 748, 749, 752, 753,\n",
       "       757, 760, 761, 763, 765, 766, 769, 771, 773, 774, 775, 779, 780,\n",
       "       781, 782, 783, 784, 787, 788, 790, 792, 793, 794, 795, 796, 797,\n",
       "       799, 800, 801, 802, 803, 805, 806, 807, 808, 809, 810, 812, 814,\n",
       "       818, 819, 822, 824, 825, 826, 827, 829, 831, 832, 833, 834, 835,\n",
       "       837, 839, 841, 842, 843, 844, 845, 846, 847, 848, 849, 856, 857,\n",
       "       858, 859, 860, 861, 866, 867, 868, 870, 871, 872, 873, 874, 877,\n",
       "       878, 880, 881, 882, 883, 885, 886, 888, 889, 890, 891, 892, 896,\n",
       "       897, 898, 899, 900, 901, 902, 905, 907, 908, 909, 911, 914, 915,\n",
       "       916, 918, 919, 921])"
      ]
     },
     "execution_count": 247,
     "metadata": {},
     "output_type": "execute_result"
    }
   ],
   "source": [
    "network_info.reqEdgesPure"
   ]
  },
  {
   "cell_type": "code",
   "execution_count": 248,
   "metadata": {},
   "outputs": [
    {
     "data": {
      "text/plain": [
       "array([  5,   6,   7,   8,   9,  10,  12,  13,  14,  15,  16,  18,  20,\n",
       "        21,  23,  24,  25,  26,  28,  29,  32,  33,  34,  35,  36,  37,\n",
       "        38,  39,  40,  41,  42,  43,  44,  45,  46,  47,  48,  51,  52,\n",
       "        54,  55,  56,  57,  58,  59,  60,  61,  62,  63,  64,  65,  66,\n",
       "        68,  69,  70,  71,  72,  73,  74,  75,  76,  77,  78,  79,  80,\n",
       "        81,  82,  83,  84,  85,  86,  87,  89,  90,  91,  92,  93,  94,\n",
       "        95,  96,  97, 100, 101, 102, 103, 104, 105, 106, 107, 108, 109,\n",
       "       110, 111, 112, 113, 114, 115, 116, 117, 118, 120, 121, 122, 123,\n",
       "       124, 125, 126, 127, 128, 129, 130, 132, 133, 136, 137, 138, 139,\n",
       "       140, 141, 142, 143, 144, 145, 146, 148, 149, 150, 152, 153, 154,\n",
       "       155, 156, 157, 158, 159, 160, 161, 162, 163, 164, 165, 166, 167,\n",
       "       168, 169, 170, 172, 173, 174, 176, 177, 178, 179, 181, 182, 183,\n",
       "       184, 185, 186, 187, 188, 189, 190, 191, 192, 193, 195, 197, 198,\n",
       "       199, 200, 201, 202, 203, 204, 205, 206, 207, 208, 209, 210, 211,\n",
       "       212, 213, 214, 215, 216, 217, 218, 219, 220, 221, 222, 223, 224,\n",
       "       225, 227, 228, 229, 230, 231, 232, 235, 237, 239, 240, 241, 243,\n",
       "       245, 246, 247, 248, 249, 250, 251, 252, 253, 254, 255, 257, 258,\n",
       "       259, 260, 261, 262, 263, 264, 265, 266, 267, 268, 269, 270, 271,\n",
       "       272, 273, 274, 275, 277, 281, 282, 287, 288, 292, 293, 294, 295,\n",
       "       299, 300, 302, 303, 306, 309, 313, 315, 316, 320, 325, 328, 329,\n",
       "       330, 331, 334, 335, 337, 338, 348, 349, 350, 351, 354, 355, 361,\n",
       "       362, 364, 369, 371, 376, 377, 380, 388, 389, 392, 394, 400, 401,\n",
       "       403, 406, 407, 409, 410, 411, 414, 415, 416, 424, 429, 434, 439,\n",
       "       441, 442, 447, 448, 450, 454, 455, 460, 464, 466, 467, 468, 472,\n",
       "       476, 477, 478, 479, 481, 482, 483, 484, 488, 489, 490, 491, 492,\n",
       "       493, 495, 498, 499, 500, 501, 502, 504, 505, 506, 509, 512, 514,\n",
       "       516, 520, 529, 530, 531, 533, 536, 537, 539, 540, 542, 543, 544,\n",
       "       545, 546, 547, 548, 549, 551, 552, 555, 556, 558, 563, 564, 569,\n",
       "       573, 588, 590, 594, 595, 596, 597, 600, 602, 603, 604, 605, 607,\n",
       "       608, 610, 614, 615, 616, 617, 619, 621, 625, 627, 629, 631, 632,\n",
       "       637, 640, 641, 645, 646, 647, 650, 665, 666, 671, 672, 678, 684,\n",
       "       691, 693, 694, 695, 696, 702, 704, 705, 707, 711, 718, 719, 721,\n",
       "       727, 728, 732, 733, 734, 738, 750, 751, 754, 755, 756, 758, 759,\n",
       "       762, 764, 767, 768, 770, 772, 776, 777, 778, 785, 786, 789, 791,\n",
       "       798, 804, 811, 813, 815, 816, 817, 820, 821, 823, 828, 830, 836,\n",
       "       838, 840, 850, 851, 852, 853, 854, 855, 862, 863, 864, 865, 869,\n",
       "       875, 876, 879, 884, 887, 893, 894, 895, 903, 904, 906, 910, 912,\n",
       "       913, 917, 920, 922, 923, 924, 925, 926, 927, 928])"
      ]
     },
     "execution_count": 248,
     "metadata": {},
     "output_type": "execute_result"
    }
   ],
   "source": [
    "network_info.reqArcsPure"
   ]
  },
  {
   "cell_type": "code",
   "execution_count": 249,
   "metadata": {},
   "outputs": [
    {
     "data": {
      "text/plain": [
       "array([None, None, None, ..., 918.0, 919.0, 921.0], dtype=object)"
      ]
     },
     "execution_count": 249,
     "metadata": {},
     "output_type": "execute_result"
    }
   ],
   "source": [
    "network_info.reqInvArcList"
   ]
  },
  {
   "cell_type": "code",
   "execution_count": 250,
   "metadata": {},
   "outputs": [
    {
     "data": {
      "text/html": [
       "<div>\n",
       "<style scoped>\n",
       "    .dataframe tbody tr th:only-of-type {\n",
       "        vertical-align: middle;\n",
       "    }\n",
       "\n",
       "    .dataframe tbody tr th {\n",
       "        vertical-align: top;\n",
       "    }\n",
       "\n",
       "    .dataframe thead th {\n",
       "        text-align: right;\n",
       "    }\n",
       "</style>\n",
       "<table border=\"1\" class=\"dataframe\">\n",
       "  <thead>\n",
       "    <tr style=\"text-align: right;\">\n",
       "      <th></th>\n",
       "      <th>arc_index</th>\n",
       "      <th>arc_index_inv</th>\n",
       "      <th>req_arc_index</th>\n",
       "      <th>req_arc_index_inv</th>\n",
       "    </tr>\n",
       "  </thead>\n",
       "  <tbody>\n",
       "    <tr>\n",
       "      <th>0</th>\n",
       "      <td>27</td>\n",
       "      <td>None</td>\n",
       "      <td>0</td>\n",
       "      <td>None</td>\n",
       "    </tr>\n",
       "    <tr>\n",
       "      <th>1</th>\n",
       "      <td>33309</td>\n",
       "      <td>None</td>\n",
       "      <td>1</td>\n",
       "      <td>None</td>\n",
       "    </tr>\n",
       "    <tr>\n",
       "      <th>2</th>\n",
       "      <td>33322</td>\n",
       "      <td>None</td>\n",
       "      <td>2</td>\n",
       "      <td>None</td>\n",
       "    </tr>\n",
       "    <tr>\n",
       "      <th>3</th>\n",
       "      <td>33335</td>\n",
       "      <td>None</td>\n",
       "      <td>3</td>\n",
       "      <td>None</td>\n",
       "    </tr>\n",
       "    <tr>\n",
       "      <th>4</th>\n",
       "      <td>33338</td>\n",
       "      <td>None</td>\n",
       "      <td>4</td>\n",
       "      <td>None</td>\n",
       "    </tr>\n",
       "    <tr>\n",
       "      <th>...</th>\n",
       "      <td>...</td>\n",
       "      <td>...</td>\n",
       "      <td>...</td>\n",
       "      <td>...</td>\n",
       "    </tr>\n",
       "    <tr>\n",
       "      <th>1357</th>\n",
       "      <td>32881</td>\n",
       "      <td>32879</td>\n",
       "      <td>1357</td>\n",
       "      <td>915</td>\n",
       "    </tr>\n",
       "    <tr>\n",
       "      <th>1358</th>\n",
       "      <td>32929</td>\n",
       "      <td>32931</td>\n",
       "      <td>1358</td>\n",
       "      <td>916</td>\n",
       "    </tr>\n",
       "    <tr>\n",
       "      <th>1359</th>\n",
       "      <td>33029</td>\n",
       "      <td>33027</td>\n",
       "      <td>1359</td>\n",
       "      <td>918</td>\n",
       "    </tr>\n",
       "    <tr>\n",
       "      <th>1360</th>\n",
       "      <td>33028</td>\n",
       "      <td>33030</td>\n",
       "      <td>1360</td>\n",
       "      <td>919</td>\n",
       "    </tr>\n",
       "    <tr>\n",
       "      <th>1361</th>\n",
       "      <td>33058</td>\n",
       "      <td>33060</td>\n",
       "      <td>1361</td>\n",
       "      <td>921</td>\n",
       "    </tr>\n",
       "  </tbody>\n",
       "</table>\n",
       "<p>1362 rows × 4 columns</p>\n",
       "</div>"
      ],
      "text/plain": [
       "      arc_index arc_index_inv  req_arc_index req_arc_index_inv\n",
       "0            27          None              0              None\n",
       "1         33309          None              1              None\n",
       "2         33322          None              2              None\n",
       "3         33335          None              3              None\n",
       "4         33338          None              4              None\n",
       "...         ...           ...            ...               ...\n",
       "1357      32881         32879           1357               915\n",
       "1358      32929         32931           1358               916\n",
       "1359      33029         33027           1359               918\n",
       "1360      33028         33030           1360               919\n",
       "1361      33058         33060           1361               921\n",
       "\n",
       "[1362 rows x 4 columns]"
      ]
     },
     "execution_count": 250,
     "metadata": {},
     "output_type": "execute_result"
    }
   ],
   "source": [
    "network_info.req_inv_list_full"
   ]
  },
  {
   "cell_type": "code",
   "execution_count": 251,
   "metadata": {},
   "outputs": [
    {
     "data": {
      "text/html": [
       "<div>\n",
       "<style scoped>\n",
       "    .dataframe tbody tr th:only-of-type {\n",
       "        vertical-align: middle;\n",
       "    }\n",
       "\n",
       "    .dataframe tbody tr th {\n",
       "        vertical-align: top;\n",
       "    }\n",
       "\n",
       "    .dataframe thead th {\n",
       "        text-align: right;\n",
       "    }\n",
       "</style>\n",
       "<table border=\"1\" class=\"dataframe\">\n",
       "  <thead>\n",
       "    <tr style=\"text-align: right;\">\n",
       "      <th></th>\n",
       "      <th>arc_index</th>\n",
       "      <th>arc_index_inv</th>\n",
       "      <th>req_arc_index</th>\n",
       "      <th>req_arc_index_inv</th>\n",
       "      <th>arc_category</th>\n",
       "    </tr>\n",
       "  </thead>\n",
       "  <tbody>\n",
       "    <tr>\n",
       "      <th>0</th>\n",
       "      <td>27</td>\n",
       "      <td>-1</td>\n",
       "      <td>0</td>\n",
       "      <td>-1</td>\n",
       "      <td>depot</td>\n",
       "    </tr>\n",
       "    <tr>\n",
       "      <th>1</th>\n",
       "      <td>33309</td>\n",
       "      <td>-1</td>\n",
       "      <td>1</td>\n",
       "      <td>-1</td>\n",
       "      <td>offload</td>\n",
       "    </tr>\n",
       "    <tr>\n",
       "      <th>2</th>\n",
       "      <td>33322</td>\n",
       "      <td>-1</td>\n",
       "      <td>2</td>\n",
       "      <td>-1</td>\n",
       "      <td>offload</td>\n",
       "    </tr>\n",
       "    <tr>\n",
       "      <th>3</th>\n",
       "      <td>33335</td>\n",
       "      <td>-1</td>\n",
       "      <td>3</td>\n",
       "      <td>-1</td>\n",
       "      <td>offload</td>\n",
       "    </tr>\n",
       "    <tr>\n",
       "      <th>4</th>\n",
       "      <td>33338</td>\n",
       "      <td>-1</td>\n",
       "      <td>4</td>\n",
       "      <td>-1</td>\n",
       "      <td>offload</td>\n",
       "    </tr>\n",
       "    <tr>\n",
       "      <th>...</th>\n",
       "      <td>...</td>\n",
       "      <td>...</td>\n",
       "      <td>...</td>\n",
       "      <td>...</td>\n",
       "      <td>...</td>\n",
       "    </tr>\n",
       "    <tr>\n",
       "      <th>1357</th>\n",
       "      <td>32881</td>\n",
       "      <td>32879</td>\n",
       "      <td>1357</td>\n",
       "      <td>915</td>\n",
       "      <td>required_edge_inverse</td>\n",
       "    </tr>\n",
       "    <tr>\n",
       "      <th>1358</th>\n",
       "      <td>32929</td>\n",
       "      <td>32931</td>\n",
       "      <td>1358</td>\n",
       "      <td>916</td>\n",
       "      <td>required_edge_inverse</td>\n",
       "    </tr>\n",
       "    <tr>\n",
       "      <th>1359</th>\n",
       "      <td>33029</td>\n",
       "      <td>33027</td>\n",
       "      <td>1359</td>\n",
       "      <td>918</td>\n",
       "      <td>required_edge_inverse</td>\n",
       "    </tr>\n",
       "    <tr>\n",
       "      <th>1360</th>\n",
       "      <td>33028</td>\n",
       "      <td>33030</td>\n",
       "      <td>1360</td>\n",
       "      <td>919</td>\n",
       "      <td>required_edge_inverse</td>\n",
       "    </tr>\n",
       "    <tr>\n",
       "      <th>1361</th>\n",
       "      <td>33058</td>\n",
       "      <td>33060</td>\n",
       "      <td>1361</td>\n",
       "      <td>921</td>\n",
       "      <td>required_edge_inverse</td>\n",
       "    </tr>\n",
       "  </tbody>\n",
       "</table>\n",
       "<p>1362 rows × 5 columns</p>\n",
       "</div>"
      ],
      "text/plain": [
       "      arc_index  arc_index_inv  req_arc_index  req_arc_index_inv  \\\n",
       "0            27             -1              0                 -1   \n",
       "1         33309             -1              1                 -1   \n",
       "2         33322             -1              2                 -1   \n",
       "3         33335             -1              3                 -1   \n",
       "4         33338             -1              4                 -1   \n",
       "...         ...            ...            ...                ...   \n",
       "1357      32881          32879           1357                915   \n",
       "1358      32929          32931           1358                916   \n",
       "1359      33029          33027           1359                918   \n",
       "1360      33028          33030           1360                919   \n",
       "1361      33058          33060           1361                921   \n",
       "\n",
       "               arc_category  \n",
       "0                     depot  \n",
       "1                   offload  \n",
       "2                   offload  \n",
       "3                   offload  \n",
       "4                   offload  \n",
       "...                     ...  \n",
       "1357  required_edge_inverse  \n",
       "1358  required_edge_inverse  \n",
       "1359  required_edge_inverse  \n",
       "1360  required_edge_inverse  \n",
       "1361  required_edge_inverse  \n",
       "\n",
       "[1362 rows x 5 columns]"
      ]
     },
     "execution_count": 251,
     "metadata": {},
     "output_type": "execute_result"
    }
   ],
   "source": [
    "network_info.main_arc_list"
   ]
  },
  {
   "cell_type": "code",
   "execution_count": 252,
   "metadata": {},
   "outputs": [
    {
     "data": {
      "text/plain": [
       "array([[0.    , 2.4074, 2.2693, ..., 2.4529, 2.4373, 2.3542],\n",
       "       [2.4009, 0.    , 0.8212, ..., 0.8141, 0.7985, 0.2191],\n",
       "       [2.4063, 0.8164, 0.    , ..., 0.3215, 0.3059, 0.6791],\n",
       "       ...,\n",
       "       [2.5821, 0.8134, 0.3261, ..., 0.    , 0.    , 0.6769],\n",
       "       [2.5665, 0.829 , 0.3105, ..., 0.    , 0.    , 0.6925],\n",
       "       [2.4514, 0.2411, 0.6535, ..., 0.6464, 0.6308, 0.    ]])"
      ]
     },
     "execution_count": 252,
     "metadata": {},
     "output_type": "execute_result"
    }
   ],
   "source": [
    "network_info.d_np_req"
   ]
  },
  {
   "cell_type": "code",
   "execution_count": 253,
   "metadata": {},
   "outputs": [
    {
     "data": {
      "text/plain": [
       "array([[10000.    , 10002.4074, 10002.2693, ..., 10002.4529, 10002.4373,\n",
       "        10002.3542],\n",
       "       [10002.4009, 10000.    , 10000.8212, ..., 10000.8141, 10000.7985,\n",
       "        10000.2191],\n",
       "       [10002.4063, 10000.8164, 10000.    , ..., 10000.3215, 10000.3059,\n",
       "        10000.6791],\n",
       "       ...,\n",
       "       [10002.6993, 10000.8134, 10000.3261, ..., 10000.3679, 10000.3523,\n",
       "        10000.8514],\n",
       "       [10002.6837, 10000.829 , 10000.3105, ..., 10000.3523, 10000.3367,\n",
       "        10000.8358],\n",
       "       [10002.5636, 10000.2411, 10000.6535, ..., 10000.7601, 10000.7445,\n",
       "        10000.4602]])"
      ]
     },
     "execution_count": 253,
     "metadata": {},
     "output_type": "execute_result"
    }
   ],
   "source": [
    "network_info.if_cost_np"
   ]
  },
  {
   "cell_type": "code",
   "execution_count": 254,
   "metadata": {},
   "outputs": [
    {
     "data": {
      "text/plain": [
       "array([[0, 0, 0, ..., 0, 0, 0],\n",
       "       [1, 1, 1, ..., 1, 1, 1],\n",
       "       [2, 1, 2, ..., 2, 2, 2],\n",
       "       ...,\n",
       "       [4, 1, 2, ..., 4, 4, 4],\n",
       "       [4, 1, 2, ..., 4, 4, 4],\n",
       "       [3, 1, 2, ..., 4, 4, 1]])"
      ]
     },
     "execution_count": 254,
     "metadata": {},
     "output_type": "execute_result"
    }
   ],
   "source": [
    "network_info.if_arc_np"
   ]
  },
  {
   "cell_type": "code",
   "execution_count": 255,
   "metadata": {},
   "outputs": [],
   "source": [
    "service_speed = 1 / 3.6 # (m/s)\n",
    "service_costs = req_arcs[['arc_index', 'length']].copy()\n",
    "service_costs['service_cost'] = service_costs[['length']] / service_speed"
   ]
  },
  {
   "cell_type": "code",
   "execution_count": 256,
   "metadata": {},
   "outputs": [
    {
     "name": "stderr",
     "output_type": "stream",
     "text": [
      "INFO:root:Setting service cost for network\n"
     ]
    }
   ],
   "source": [
    "network_info.set_service_cost(service_costs)"
   ]
  },
  {
   "cell_type": "code",
   "execution_count": 284,
   "metadata": {},
   "outputs": [
    {
     "data": {
      "text/html": [
       "<div>\n",
       "<style scoped>\n",
       "    .dataframe tbody tr th:only-of-type {\n",
       "        vertical-align: middle;\n",
       "    }\n",
       "\n",
       "    .dataframe tbody tr th {\n",
       "        vertical-align: top;\n",
       "    }\n",
       "\n",
       "    .dataframe thead th {\n",
       "        text-align: right;\n",
       "    }\n",
       "</style>\n",
       "<table border=\"1\" class=\"dataframe\">\n",
       "  <thead>\n",
       "    <tr style=\"text-align: right;\">\n",
       "      <th></th>\n",
       "      <th>arc_index</th>\n",
       "      <th>arc_index_inv</th>\n",
       "      <th>req_arc_index</th>\n",
       "      <th>req_arc_index_inv</th>\n",
       "      <th>arc_category</th>\n",
       "      <th>length</th>\n",
       "      <th>service_cost</th>\n",
       "      <th>service_cost_inv</th>\n",
       "    </tr>\n",
       "  </thead>\n",
       "  <tbody>\n",
       "    <tr>\n",
       "      <th>0</th>\n",
       "      <td>27</td>\n",
       "      <td>-1</td>\n",
       "      <td>0</td>\n",
       "      <td>-1</td>\n",
       "      <td>depot</td>\n",
       "      <td>6.713</td>\n",
       "      <td>0.0000</td>\n",
       "      <td>NaN</td>\n",
       "    </tr>\n",
       "    <tr>\n",
       "      <th>1</th>\n",
       "      <td>33309</td>\n",
       "      <td>-1</td>\n",
       "      <td>1</td>\n",
       "      <td>-1</td>\n",
       "      <td>offload</td>\n",
       "      <td>125.456</td>\n",
       "      <td>0.0000</td>\n",
       "      <td>NaN</td>\n",
       "    </tr>\n",
       "    <tr>\n",
       "      <th>2</th>\n",
       "      <td>33322</td>\n",
       "      <td>-1</td>\n",
       "      <td>2</td>\n",
       "      <td>-1</td>\n",
       "      <td>offload</td>\n",
       "      <td>30.508</td>\n",
       "      <td>0.0000</td>\n",
       "      <td>NaN</td>\n",
       "    </tr>\n",
       "    <tr>\n",
       "      <th>3</th>\n",
       "      <td>33335</td>\n",
       "      <td>-1</td>\n",
       "      <td>3</td>\n",
       "      <td>-1</td>\n",
       "      <td>offload</td>\n",
       "      <td>27.347</td>\n",
       "      <td>0.0000</td>\n",
       "      <td>NaN</td>\n",
       "    </tr>\n",
       "    <tr>\n",
       "      <th>4</th>\n",
       "      <td>33338</td>\n",
       "      <td>-1</td>\n",
       "      <td>4</td>\n",
       "      <td>-1</td>\n",
       "      <td>offload</td>\n",
       "      <td>32.262</td>\n",
       "      <td>0.0000</td>\n",
       "      <td>NaN</td>\n",
       "    </tr>\n",
       "    <tr>\n",
       "      <th>...</th>\n",
       "      <td>...</td>\n",
       "      <td>...</td>\n",
       "      <td>...</td>\n",
       "      <td>...</td>\n",
       "      <td>...</td>\n",
       "      <td>...</td>\n",
       "      <td>...</td>\n",
       "      <td>...</td>\n",
       "    </tr>\n",
       "    <tr>\n",
       "      <th>1357</th>\n",
       "      <td>32881</td>\n",
       "      <td>32879</td>\n",
       "      <td>1357</td>\n",
       "      <td>915</td>\n",
       "      <td>required_edge_inverse</td>\n",
       "      <td>NaN</td>\n",
       "      <td>124.7184</td>\n",
       "      <td>124.7184</td>\n",
       "    </tr>\n",
       "    <tr>\n",
       "      <th>1358</th>\n",
       "      <td>32929</td>\n",
       "      <td>32931</td>\n",
       "      <td>1358</td>\n",
       "      <td>916</td>\n",
       "      <td>required_edge_inverse</td>\n",
       "      <td>NaN</td>\n",
       "      <td>1035.0036</td>\n",
       "      <td>1035.0036</td>\n",
       "    </tr>\n",
       "    <tr>\n",
       "      <th>1359</th>\n",
       "      <td>33029</td>\n",
       "      <td>33027</td>\n",
       "      <td>1359</td>\n",
       "      <td>918</td>\n",
       "      <td>required_edge_inverse</td>\n",
       "      <td>NaN</td>\n",
       "      <td>1344.1788</td>\n",
       "      <td>1344.1788</td>\n",
       "    </tr>\n",
       "    <tr>\n",
       "      <th>1360</th>\n",
       "      <td>33028</td>\n",
       "      <td>33030</td>\n",
       "      <td>1360</td>\n",
       "      <td>919</td>\n",
       "      <td>required_edge_inverse</td>\n",
       "      <td>NaN</td>\n",
       "      <td>562.5900</td>\n",
       "      <td>562.5900</td>\n",
       "    </tr>\n",
       "    <tr>\n",
       "      <th>1361</th>\n",
       "      <td>33058</td>\n",
       "      <td>33060</td>\n",
       "      <td>1361</td>\n",
       "      <td>921</td>\n",
       "      <td>required_edge_inverse</td>\n",
       "      <td>NaN</td>\n",
       "      <td>105.9696</td>\n",
       "      <td>105.9696</td>\n",
       "    </tr>\n",
       "  </tbody>\n",
       "</table>\n",
       "<p>1362 rows × 8 columns</p>\n",
       "</div>"
      ],
      "text/plain": [
       "      arc_index  arc_index_inv  req_arc_index  req_arc_index_inv  \\\n",
       "0            27             -1              0                 -1   \n",
       "1         33309             -1              1                 -1   \n",
       "2         33322             -1              2                 -1   \n",
       "3         33335             -1              3                 -1   \n",
       "4         33338             -1              4                 -1   \n",
       "...         ...            ...            ...                ...   \n",
       "1357      32881          32879           1357                915   \n",
       "1358      32929          32931           1358                916   \n",
       "1359      33029          33027           1359                918   \n",
       "1360      33028          33030           1360                919   \n",
       "1361      33058          33060           1361                921   \n",
       "\n",
       "               arc_category   length  service_cost  service_cost_inv  \n",
       "0                     depot    6.713        0.0000               NaN  \n",
       "1                   offload  125.456        0.0000               NaN  \n",
       "2                   offload   30.508        0.0000               NaN  \n",
       "3                   offload   27.347        0.0000               NaN  \n",
       "4                   offload   32.262        0.0000               NaN  \n",
       "...                     ...      ...           ...               ...  \n",
       "1357  required_edge_inverse      NaN      124.7184          124.7184  \n",
       "1358  required_edge_inverse      NaN     1035.0036         1035.0036  \n",
       "1359  required_edge_inverse      NaN     1344.1788         1344.1788  \n",
       "1360  required_edge_inverse      NaN      562.5900          562.5900  \n",
       "1361  required_edge_inverse      NaN      105.9696          105.9696  \n",
       "\n",
       "[1362 rows x 8 columns]"
      ]
     },
     "execution_count": 284,
     "metadata": {},
     "output_type": "execute_result"
    }
   ],
   "source": [
    "network_info.df_service_cost"
   ]
  },
  {
   "cell_type": "code",
   "execution_count": 292,
   "metadata": {},
   "outputs": [],
   "source": [
    "demand = 1 # unit\n",
    "df_demand = req_arcs[['arc_index']].copy()\n",
    "df_demand['demand'] = 1\n",
    "\n",
    "network_info.set_service_demand(df_demand)\n",
    "\n",
    "network_info.set_travel_speed(30 / 3.6)\n",
    "network_info.set_offload_time(15 * 60)\n",
    "network_info.update_cost_matrix()\n",
    "network_info.update_offload_cost()\n",
    "\n",
    "network_info.d_np_req.mean()\n",
    "network_info.if_cost_np.mean()\n",
    "\n",
    "network_info.check_shapes()\n",
    "\n",
    "network_info.round_key_inputs()\n",
    "\n",
    "network_info.calc_min_duration_capacity()"
   ]
  },
  {
   "cell_type": "code",
   "execution_count": 306,
   "metadata": {},
   "outputs": [
    {
     "name": "stderr",
     "output_type": "stream",
     "text": [
      "INFO:root:Update travel durations.\n",
      "INFO:root:Update offload durations.\n",
      "INFO:root:Setting service cost for network\n"
     ]
    }
   ],
   "source": [
    "service_speed = 1 #1 / 3.6 # (m/s)\n",
    "service_costs = req_arcs[['arc_index', 'length']].copy()\n",
    "service_costs['service_cost'] = service_costs[['length']] * 0/ service_speed\n",
    "\n",
    "network_info.set_travel_speed(60 / 3.6)\n",
    "network_info.set_offload_time(0)\n",
    "network_info.update_cost_matrix()\n",
    "network_info.update_offload_cost()\n",
    "network_info.set_service_cost(service_costs)"
   ]
  },
  {
   "cell_type": "code",
   "execution_count": 307,
   "metadata": {},
   "outputs": [
    {
     "data": {
      "text/plain": [
       "6101.28"
      ]
     },
     "execution_count": 307,
     "metadata": {},
     "output_type": "execute_result"
    },
    {
     "data": {
      "text/plain": [
       "1"
      ]
     },
     "execution_count": 307,
     "metadata": {},
     "output_type": "execute_result"
    }
   ],
   "source": [
    "network_info.calc_min_duration_capacity()\n",
    "network_info.min_duration\n",
    "network_info.min_capacity"
   ]
  },
  {
   "cell_type": "code",
   "execution_count": 308,
   "metadata": {},
   "outputs": [
    {
     "data": {
      "text/plain": [
       "1.6947999999999999"
      ]
     },
     "execution_count": 308,
     "metadata": {},
     "output_type": "execute_result"
    }
   ],
   "source": [
    "6101.28 / 3600"
   ]
  },
  {
   "cell_type": "markdown",
   "metadata": {},
   "source": [
    "## Offload calculation test"
   ]
  },
  {
   "cell_type": "code",
   "execution_count": 431,
   "metadata": {},
   "outputs": [
    {
     "data": {
      "image/png": "[encoded data removed]",
      "text/plain": [
       "<Figure size 720x720 with 1 Axes>"
      ]
     },
     "metadata": {
      "needs_background": "light"
     },
     "output_type": "display_data"
    }
   ],
   "source": [
    "test_size = 100\n",
    "\n",
    "sample = np.random.randint(0, test_network.shape[0], size=test_size)\n",
    "sample = np.unique(sample)\n",
    "req_arcs = test_network.iloc[sample, :].copy()\n",
    "req_arcs = req_arcs.sort_values(['arc_index'])\n",
    "req_arcs = req_arcs.drop_duplicates(['arc_id_ordered'])\n",
    "req_arcs = req_arcs.dropna(subset=['geometry'])\n",
    "req_arcs['geometry'] = req_arcs['geometry'].apply(wkt.loads)\n",
    "req_arcs = gpd.GeoDataFrame(req_arcs, geometry=req_arcs['geometry'], crs='EPSG:4326')\n",
    "\n",
    "_ = req_arcs.plot(figsize=(10, 10), linewidth=2.5)"
   ]
  },
  {
   "cell_type": "code",
   "execution_count": 435,
   "metadata": {},
   "outputs": [
    {
     "name": "stderr",
     "output_type": "stream",
     "text": [
      "INFO:root:Creating inverse arc list\n",
      "INFO:root:Number of edges: 19170\n",
      "INFO:root:Edges with inverse pairs: 17799\n",
      "INFO:root:Number of arcs: 17794\n",
      "INFO:root:Load required arcs\n",
      "INFO:root:Set depot\n",
      "INFO:root:Set offload facilities\n",
      "INFO:root:Extend required arcs with inverse edge arcs\n",
      "INFO:root:Load distance matrix: 138 x 138\n",
      "INFO:root:Creating nearest neighbour lists\n",
      "INFO:root:Calculate offloads: 138 x 138 x 4\n",
      "INFO:root:Calculate offloads: 138 x 138 x 4\n"
     ]
    },
    {
     "name": "stdout",
     "output_type": "stream",
     "text": [
      "CPU times: user 1.03 s, sys: 50.1 ms, total: 1.08 s\n",
      "Wall time: 1.07 s\n"
     ]
    }
   ],
   "source": [
    "%%time\n",
    "network_info = NetworkExtract(test_network, network_file)\n",
    "\n",
    "depot = req_arcs['arc_index'].iloc[0]\n",
    "ifs = req_arcs['arc_index'].iloc[-4:]\n",
    "\n",
    "network_info.load_required_arcs(req_arcs)\n",
    "network_info.set_depot_arc(depot)\n",
    "network_info.set_if_arcs(ifs)\n",
    "network_info.loc_in_required_arcs()\n",
    "network_info.extend_required_inverse_arcs()\n",
    "network_info.load_distance_matrix()\n",
    "\n",
    "network_info.offload_calculations()\n",
    "if2_cost_comp = network_info.if_cost_np.copy()\n",
    "if2_arc_comp = network_info.if_arc_np.copy()\n",
    "\n",
    "network_info.offload_calculations3D()\n",
    "if_cost_comp = network_info.if_cost_np.copy()\n",
    "if_arc_comp = network_info.if_arc_np.copy()"
   ]
  },
  {
   "cell_type": "code",
   "execution_count": 436,
   "metadata": {},
   "outputs": [
    {
     "data": {
      "text/plain": [
       "True"
      ]
     },
     "execution_count": 436,
     "metadata": {},
     "output_type": "execute_result"
    }
   ],
   "source": [
    "np.array_equiv(if2_arc_comp[1:,:], if2_arc_comp[1:,:],)"
   ]
  },
  {
   "cell_type": "code",
   "execution_count": 437,
   "metadata": {},
   "outputs": [
    {
     "data": {
      "text/plain": [
       "array([[    0, 38026, 31208, ..., 34464, 33590, 32685],\n",
       "       [38295,     0,  8272, ...,  7642,  6836,  7804],\n",
       "       [31033,  6804,     0, ...,  7637,  2948,  2372],\n",
       "       ...,\n",
       "       [38910,  7506,  7877, ..., 11076, 10825, 10249],\n",
       "       [34316,  6172,  3283, ..., 10920,  6231,  5655],\n",
       "       [33204,  7099,  2171, ...,  9808,  5119,  4543]], dtype=int32)"
      ]
     },
     "execution_count": 437,
     "metadata": {},
     "output_type": "execute_result"
    },
    {
     "data": {
      "text/plain": [
       "array([[    0., 38012., 31208., ..., 34464., 33590., 32685.],\n",
       "       [38295.,     0.,  8272., ...,  7642.,  6836.,  7804.],\n",
       "       [31033.,  6804.,     0., ...,  7637.,  2948.,  2372.],\n",
       "       ...,\n",
       "       [38910.,  7506.,  7877., ..., 11076., 10825., 10249.],\n",
       "       [34316.,  6172.,  3283., ..., 10920.,  6231.,  5655.],\n",
       "       [33204.,  7099.,  2171., ...,  9808.,  5119.,  4543.]])"
      ]
     },
     "execution_count": 437,
     "metadata": {},
     "output_type": "execute_result"
    }
   ],
   "source": [
    "if_cost_comp\n",
    "if2_cost_comp"
   ]
  },
  {
   "cell_type": "code",
   "execution_count": 438,
   "metadata": {},
   "outputs": [
    {
     "data": {
      "text/plain": [
       "True"
      ]
     },
     "execution_count": 438,
     "metadata": {},
     "output_type": "execute_result"
    }
   ],
   "source": [
    "d = network_info.d_np_req\n",
    "arc_to_if = d[:, 1]\n",
    "if_to_arc = d[1, :]\n",
    "\n",
    "dist1, dist2 = np.meshgrid(arc_to_if, if_to_arc)\n",
    "\n",
    "dist = dist1 + dist2\n",
    "dist = dist.T\n",
    "\n",
    "n_arcs = d.shape[0]\n",
    "if_cost_np = np.full(d.shape, np.infty)\n",
    "\n",
    "for i in range(n_arcs):\n",
    "    for j in range(n_arcs):\n",
    "        if_cost_np[i,j] = d[i, 1] +  d[1, j] \n",
    "        \n",
    "np.array_equal(if_cost_np, dist)\n"
   ]
  },
  {
   "cell_type": "code",
   "execution_count": 439,
   "metadata": {},
   "outputs": [],
   "source": [
    "d = network_info.d_np_req"
   ]
  },
  {
   "cell_type": "code",
   "execution_count": 384,
   "metadata": {},
   "outputs": [],
   "source": [
    "arc_to_if = d[:, 1]\n",
    "if_to_arc = d[1, :]\n",
    "\n",
    "dist_x, dist_y = np.meshgrid(arc_to_if, if_to_arc)\n",
    "dist = dist_x + dist_y\n",
    "dist1 = dist.T\n",
    "\n",
    "arc_to_if = d[:, 5]\n",
    "if_to_arc = d[5, :]\n",
    "\n",
    "dist_x, dist_y = np.meshgrid(arc_to_if, if_to_arc)\n",
    "dist = dist_x + dist_y\n",
    "dist2 = dist.T\n",
    "\n",
    "arc_to_if = d[:, 10]\n",
    "if_to_arc = d[10, :]\n",
    "\n",
    "dist_x, dist_y = np.meshgrid(arc_to_if, if_to_arc)\n",
    "dist = dist_x + dist_y\n",
    "dist3 = dist.T"
   ]
  },
  {
   "cell_type": "code",
   "execution_count": 393,
   "metadata": {},
   "outputs": [
    {
     "data": {
      "text/plain": [
       "array([[    0, 19039, 20728, ..., 21145, 19039, 16895],\n",
       "       [20857,     0,  5130, ...,  6133,     0,  3207],\n",
       "       [21541,  4136,  7010, ..., 10269,  4136,  7343],\n",
       "       ...,\n",
       "       [23242,  6300, 11430, ..., 12433,  6300,  9507],\n",
       "       [20857,     0,  5130, ...,  6133,     0,  3207],\n",
       "       [18732,  3087,  8217, ...,  9220,  3087,  6294]], dtype=int32)"
      ]
     },
     "execution_count": 393,
     "metadata": {},
     "output_type": "execute_result"
    },
    {
     "data": {
      "text/plain": [
       "array([[1, 0, 1, ..., 1, 0, 1],\n",
       "       [0, 0, 0, ..., 0, 0, 0],\n",
       "       [1, 0, 2, ..., 0, 0, 0],\n",
       "       ...,\n",
       "       [1, 0, 0, ..., 0, 0, 0],\n",
       "       [0, 0, 0, ..., 0, 0, 0],\n",
       "       [1, 0, 0, ..., 0, 0, 0]])"
      ]
     },
     "execution_count": 393,
     "metadata": {},
     "output_type": "execute_result"
    }
   ],
   "source": [
    "if_arc_array = np.dstack([dist1, dist2, dist3])\n",
    "if_arc_array.min(axis=2)\n",
    "if_arc_array.argmin(axis=2)"
   ]
  },
  {
   "cell_type": "code",
   "execution_count": 319,
   "metadata": {},
   "outputs": [],
   "source": [
    "if_cost_np = np.full((100, 100, 3), np.infty)\n",
    "if_cost_np[, 1]"
   ]
  },
  {
   "cell_type": "markdown",
   "metadata": {},
   "source": [
    "## Large instance calculation test"
   ]
  },
  {
   "cell_type": "code",
   "execution_count": 484,
   "metadata": {},
   "outputs": [
    {
     "data": {
      "image/png": "[encoded data removed]",
      "text/plain": [
       "<Figure size 720x720 with 1 Axes>"
      ]
     },
     "metadata": {
      "needs_background": "light"
     },
     "output_type": "display_data"
    }
   ],
   "source": [
    "test_size = 1000\n",
    "\n",
    "sample = np.random.randint(0, test_network.shape[0], size=test_size)\n",
    "sample = np.unique(sample)\n",
    "req_arcs = test_network.iloc[sample, :].copy()\n",
    "req_arcs = req_arcs.sort_values(['arc_index'])\n",
    "req_arcs = req_arcs.drop_duplicates(['arc_id_ordered'])\n",
    "req_arcs = req_arcs.dropna(subset=['geometry'])\n",
    "req_arcs['geometry'] = req_arcs['geometry'].apply(wkt.loads)\n",
    "req_arcs = gpd.GeoDataFrame(req_arcs, geometry=req_arcs['geometry'], crs='EPSG:4326')\n",
    "\n",
    "_ = req_arcs.plot(figsize=(10, 10), linewidth=2.5)"
   ]
  },
  {
   "cell_type": "code",
   "execution_count": 485,
   "metadata": {},
   "outputs": [
    {
     "name": "stderr",
     "output_type": "stream",
     "text": [
      "INFO:root:Creating inverse arc list\n",
      "INFO:root:Number of edges: 19170\n",
      "INFO:root:Edges with inverse pairs: 17799\n",
      "INFO:root:Number of arcs: 17794\n",
      "INFO:root:Load required arcs\n",
      "INFO:root:Set depot\n",
      "INFO:root:Set offload facilities\n",
      "INFO:root:Extend required arcs with inverse edge arcs\n",
      "INFO:root:Load distance matrix: 1380 x 1380\n",
      "INFO:root:Creating nearest neighbour lists\n"
     ]
    },
    {
     "name": "stdout",
     "output_type": "stream",
     "text": [
      "CPU times: user 7.72 s, sys: 459 ms, total: 8.18 s\n",
      "Wall time: 9.15 s\n"
     ]
    }
   ],
   "source": [
    "%%time\n",
    "network_info = NetworkExtract(test_network, network_file)\n",
    "\n",
    "depot = req_arcs['arc_index'].iloc[0]\n",
    "ifs = req_arcs['arc_index'].iloc[-4:]\n",
    "\n",
    "network_info.load_required_arcs(req_arcs)\n",
    "network_info.set_depot_arc(depot)\n",
    "network_info.set_if_arcs(ifs)\n",
    "network_info.loc_in_required_arcs()\n",
    "network_info.extend_required_inverse_arcs()\n",
    "network_info.load_distance_matrix()"
   ]
  },
  {
   "cell_type": "code",
   "execution_count": 486,
   "metadata": {},
   "outputs": [
    {
     "name": "stderr",
     "output_type": "stream",
     "text": [
      "INFO:root:Calculate offloads: 1380 x 1380 x 4\n"
     ]
    },
    {
     "name": "stdout",
     "output_type": "stream",
     "text": [
      "CPU times: user 90.7 ms, sys: 38.4 ms, total: 129 ms\n",
      "Wall time: 128 ms\n"
     ]
    }
   ],
   "source": [
    "%%time\n",
    "network_info.offload_calculations3D()"
   ]
  },
  {
   "cell_type": "code",
   "execution_count": 487,
   "metadata": {},
   "outputs": [
    {
     "name": "stderr",
     "output_type": "stream",
     "text": [
      "INFO:root:Setting demand for network\n",
      "INFO:root:Update travel durations.\n",
      "INFO:root:Update offload durations.\n",
      "INFO:root:Setting service cost for network\n"
     ]
    },
    {
     "ename": "AssertionError",
     "evalue": "",
     "output_type": "error",
     "traceback": [
      "\u001b[0;31m---------------------------------------------------------------------------\u001b[0m",
      "\u001b[0;31mAssertionError\u001b[0m                            Traceback (most recent call last)",
      "\u001b[0;32m<timed exec>\u001b[0m in \u001b[0;36m<module>\u001b[0;34m\u001b[0m\n",
      "\u001b[0;32m~/dev/mcarptif/osmnx_network_extract/extract_mcarptif.py\u001b[0m in \u001b[0;36mcheck_shapes\u001b[0;34m(self)\u001b[0m\n\u001b[1;32m    430\u001b[0m         \u001b[0mn_req_arcs_full\u001b[0m \u001b[0;34m=\u001b[0m \u001b[0mself\u001b[0m\u001b[0;34m.\u001b[0m\u001b[0mreqArcList\u001b[0m\u001b[0;34m.\u001b[0m\u001b[0mshape\u001b[0m\u001b[0;34m[\u001b[0m\u001b[0;36m0\u001b[0m\u001b[0;34m]\u001b[0m\u001b[0;34m\u001b[0m\u001b[0;34m\u001b[0m\u001b[0m\n\u001b[1;32m    431\u001b[0m \u001b[0;34m\u001b[0m\u001b[0m\n\u001b[0;32m--> 432\u001b[0;31m         \u001b[0;32massert\u001b[0m \u001b[0mn_req_arcs\u001b[0m \u001b[0;34m==\u001b[0m \u001b[0;34m(\u001b[0m\u001b[0mn_edges_pure\u001b[0m \u001b[0;34m+\u001b[0m \u001b[0mn_req_arcs_pure\u001b[0m\u001b[0;34m)\u001b[0m\u001b[0;34m\u001b[0m\u001b[0;34m\u001b[0m\u001b[0m\n\u001b[0m\u001b[1;32m    433\u001b[0m         \u001b[0;32massert\u001b[0m \u001b[0mn_req_arcs_actual\u001b[0m \u001b[0;34m==\u001b[0m \u001b[0;34m(\u001b[0m\u001b[0;36m2\u001b[0m \u001b[0;34m*\u001b[0m \u001b[0mn_edges_pure\u001b[0m \u001b[0;34m+\u001b[0m \u001b[0mn_req_arcs_pure\u001b[0m\u001b[0;34m)\u001b[0m\u001b[0;34m\u001b[0m\u001b[0;34m\u001b[0m\u001b[0m\n\u001b[1;32m    434\u001b[0m         \u001b[0;32massert\u001b[0m \u001b[0mn_req_arcs_full\u001b[0m \u001b[0;34m==\u001b[0m \u001b[0;34m(\u001b[0m\u001b[0;36m2\u001b[0m \u001b[0;34m*\u001b[0m \u001b[0mn_edges_pure\u001b[0m \u001b[0;34m+\u001b[0m \u001b[0mn_req_arcs_pure\u001b[0m\u001b[0;34m)\u001b[0m \u001b[0;34m+\u001b[0m \u001b[0mself\u001b[0m\u001b[0;34m.\u001b[0m\u001b[0mn_dummy\u001b[0m\u001b[0;34m\u001b[0m\u001b[0;34m\u001b[0m\u001b[0m\n",
      "\u001b[0;31mAssertionError\u001b[0m: "
     ]
    }
   ],
   "source": [
    "%%time\n",
    "demand = 1 # unit\n",
    "df_demand = req_arcs[['arc_index']].copy()\n",
    "df_demand['demand'] = 1\n",
    "\n",
    "network_info.set_service_demand(df_demand)\n",
    "\n",
    "network_info.set_travel_speed(30 / 3.6)\n",
    "network_info.set_offload_time(15 * 60)\n",
    "network_info.update_cost_matrix()\n",
    "network_info.update_offload_cost()\n",
    "\n",
    "service_costs = req_arcs[['arc_index', 'length']].copy()\n",
    "service_costs['service_cost'] = service_costs[['length']] * 0/ service_speed\n",
    "network_info.set_service_cost(service_costs)\n",
    "\n",
    "network_info.d_np_req.mean()\n",
    "network_info.if_cost_np.mean()\n",
    "\n",
    "network_info.check_shapes()\n",
    "network_info.round_key_inputs()\n",
    "\n",
    "network_info.calc_min_duration_capacity()\n",
    "network_info.min_duration\n",
    "network_info.min_capacity"
   ]
  },
  {
   "cell_type": "code",
   "execution_count": 488,
   "metadata": {},
   "outputs": [
    {
     "data": {
      "text/plain": [
       "1205.0173522369244"
      ]
     },
     "execution_count": 488,
     "metadata": {},
     "output_type": "execute_result"
    },
    {
     "data": {
      "text/plain": [
       "2843.910042722117"
      ]
     },
     "execution_count": 488,
     "metadata": {},
     "output_type": "execute_result"
    },
    {
     "data": {
      "text/plain": [
       "0"
      ]
     },
     "execution_count": 488,
     "metadata": {},
     "output_type": "execute_result"
    },
    {
     "data": {
      "text/plain": [
       "0"
      ]
     },
     "execution_count": 488,
     "metadata": {},
     "output_type": "execute_result"
    }
   ],
   "source": [
    "network_info.d_np_req.mean()\n",
    "network_info.if_cost_np.mean()\n",
    "network_info.min_duration\n",
    "network_info.min_capacity"
   ]
  },
  {
   "cell_type": "code",
   "execution_count": null,
   "metadata": {},
   "outputs": [],
   "source": []
  }
 ],
 "metadata": {
  "kernelspec": {
   "display_name": "Python 3.8 (waste_labs_examples jupyterlab)",
   "language": "python",
   "name": "waste_labs_examples"
  },
  "language_info": {
   "codemirror_mode": {
    "name": "ipython",
    "version": 3
   },
   "file_extension": ".py",
   "mimetype": "text/x-python",
   "name": "python",
   "nbconvert_exporter": "python",
   "pygments_lexer": "ipython3",
   "version": "3.8.2"
  }
 },
 "nbformat": 4,
 "nbformat_minor": 4
}
