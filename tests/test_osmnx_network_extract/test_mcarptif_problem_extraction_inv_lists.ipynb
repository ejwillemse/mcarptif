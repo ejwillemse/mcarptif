{
 "cells": [
  {
   "cell_type": "markdown",
   "metadata": {},
   "source": [
    "# Problem conversion"
   ]
  },
  {
   "cell_type": "markdown",
   "metadata": {},
   "source": [
    "Moving from raw problem instance data to MCAPRTIF via pytables."
   ]
  },
  {
   "cell_type": "code",
   "execution_count": 126,
   "metadata": {},
   "outputs": [
    {
     "name": "stdout",
     "output_type": "stream",
     "text": [
      "The autoreload extension is already loaded. To reload it, use:\n",
      "  %reload_ext autoreload\n"
     ]
    }
   ],
   "source": [
    "%load_ext autoreload\n",
    "%autoreload 2\n",
    "\n",
    "# Show all code cells outputs\n",
    "from IPython.core.interactiveshell import InteractiveShell\n",
    "InteractiveShell.ast_node_interactivity = 'all'\n",
    "\n",
    "import logging\n",
    "logging.basicConfig(level=logging.INFO)\n",
    "\n",
    "import os\n",
    "sys.path.insert(0, os.path.abspath('../../'))"
   ]
  },
  {
   "cell_type": "code",
   "execution_count": 54,
   "metadata": {},
   "outputs": [],
   "source": [
    "import pandas as pd\n",
    "import geopandas as gpd\n",
    "from shapely import wkt\n",
    "import numpy as np"
   ]
  },
  {
   "cell_type": "code",
   "execution_count": 261,
   "metadata": {},
   "outputs": [],
   "source": [
    "from osmnx_network_extract.extract_mcarptif import NetworkExtract"
   ]
  },
  {
   "cell_type": "code",
   "execution_count": 280,
   "metadata": {},
   "outputs": [
    {
     "name": "stderr",
     "output_type": "stream",
     "text": [
      "/Users/ejwillemse/opt/anaconda3/envs/waste_labs_examples/lib/python3.8/site-packages/IPython/core/interactiveshell.py:3062: DtypeWarning: Columns (14,17,19,25) have mixed types.Specify dtype option on import or set low_memory=False.\n",
      "  has_raised = await self.run_ast_nodes(code_ast.body, cell_name,\n"
     ]
    }
   ],
   "source": [
    "network_file = '../../../hobbes_projects/wasted_large_instances/outputs/city_punggol_full_internal_50m_buffer.h5'\n",
    "test_network = pd.read_csv('../../../hobbes_projects/wasted_large_instances/outputs/city_punggol_full_internal_50m_buffer_original_dataframe.csv')\n",
    "test_network = test_network.drop(columns=['Unnamed: 0'])"
   ]
  },
  {
   "cell_type": "code",
   "execution_count": 117,
   "metadata": {},
   "outputs": [],
   "source": [
    "sample = np.random.randint(0, test_network.shape[0], size=100)\n",
    "req_arcs = test_network.iloc[sample, :].copy()\n",
    "req_arcs = req_arcs.sort_values(['arc_index'])\n",
    "req_arcs = req_arcs.drop_duplicates(['arc_id_ordered'])\n",
    "req_arcs = req_arcs.dropna(subset=['geometry'])\n",
    "req_arcs['geometry'] = req_arcs['geometry'].apply(wkt.loads)\n",
    "req_arcs = gpd.GeoDataFrame(req_arcs, geometry=req_arcs['geometry'], crs='EPSG:4326')\n",
    "req_arcs.to_csv('temp/test_extract.csv', index=False)"
   ]
  },
  {
   "cell_type": "code",
   "execution_count": 118,
   "metadata": {},
   "outputs": [
    {
     "data": {
      "image/png": "[encoded data removed]",
      "text/plain": [
       "<Figure size 720x720 with 1 Axes>"
      ]
     },
     "metadata": {
      "needs_background": "light"
     },
     "output_type": "display_data"
    }
   ],
   "source": [
    "_ = req_arcs.plot(figsize=(10, 10), linewidth=2.5)"
   ]
  },
  {
   "cell_type": "code",
   "execution_count": 131,
   "metadata": {},
   "outputs": [
    {
     "data": {
      "text/plain": [
       "False"
      ]
     },
     "execution_count": 131,
     "metadata": {},
     "output_type": "execute_result"
    }
   ],
   "source": [
    "test_network.duplicated(['arc_index']).any()"
   ]
  },
  {
   "cell_type": "code",
   "execution_count": 282,
   "metadata": {},
   "outputs": [
    {
     "name": "stderr",
     "output_type": "stream",
     "text": [
      "INFO:root:Creating inverse arc list\n",
      "INFO:root:Number of edges: 19170\n",
      "INFO:root:Edges with inverse pairs: 17799\n",
      "INFO:root:Number of arcs: 17794\n"
     ]
    }
   ],
   "source": [
    "network_info = NetworkExtract(test_network, network_file)"
   ]
  },
  {
   "cell_type": "code",
   "execution_count": 283,
   "metadata": {},
   "outputs": [],
   "source": [
    "inv_list  = network_info.df_inv_list"
   ]
  },
  {
   "cell_type": "code",
   "execution_count": 284,
   "metadata": {},
   "outputs": [
    {
     "data": {
      "text/plain": [
       "(17799, 2)"
      ]
     },
     "execution_count": 284,
     "metadata": {},
     "output_type": "execute_result"
    }
   ],
   "source": [
    "inv_list_test = inv_list.copy().dropna()\n",
    "inv_list_test.shape"
   ]
  },
  {
   "cell_type": "code",
   "execution_count": 285,
   "metadata": {},
   "outputs": [],
   "source": [
    "inv_list_test['arc_index_inv'] = inv_list_test['arc_index_inv'].astype(int)"
   ]
  },
  {
   "cell_type": "code",
   "execution_count": 286,
   "metadata": {},
   "outputs": [
    {
     "data": {
      "text/html": [
       "<div>\n",
       "<style scoped>\n",
       "    .dataframe tbody tr th:only-of-type {\n",
       "        vertical-align: middle;\n",
       "    }\n",
       "\n",
       "    .dataframe tbody tr th {\n",
       "        vertical-align: top;\n",
       "    }\n",
       "\n",
       "    .dataframe thead th {\n",
       "        text-align: right;\n",
       "    }\n",
       "</style>\n",
       "<table border=\"1\" class=\"dataframe\">\n",
       "  <thead>\n",
       "    <tr style=\"text-align: right;\">\n",
       "      <th></th>\n",
       "      <th>arc_index</th>\n",
       "      <th>arc_index_inv</th>\n",
       "    </tr>\n",
       "  </thead>\n",
       "  <tbody>\n",
       "  </tbody>\n",
       "</table>\n",
       "</div>"
      ],
      "text/plain": [
       "Empty DataFrame\n",
       "Columns: [arc_index, arc_index_inv]\n",
       "Index: []"
      ]
     },
     "execution_count": 286,
     "metadata": {},
     "output_type": "execute_result"
    },
    {
     "data": {
      "text/html": [
       "<div>\n",
       "<style scoped>\n",
       "    .dataframe tbody tr th:only-of-type {\n",
       "        vertical-align: middle;\n",
       "    }\n",
       "\n",
       "    .dataframe tbody tr th {\n",
       "        vertical-align: top;\n",
       "    }\n",
       "\n",
       "    .dataframe thead th {\n",
       "        text-align: right;\n",
       "    }\n",
       "</style>\n",
       "<table border=\"1\" class=\"dataframe\">\n",
       "  <thead>\n",
       "    <tr style=\"text-align: right;\">\n",
       "      <th></th>\n",
       "      <th>arc_index</th>\n",
       "      <th>arc_index_inv</th>\n",
       "    </tr>\n",
       "  </thead>\n",
       "  <tbody>\n",
       "  </tbody>\n",
       "</table>\n",
       "</div>"
      ],
      "text/plain": [
       "Empty DataFrame\n",
       "Columns: [arc_index, arc_index_inv]\n",
       "Index: []"
      ]
     },
     "execution_count": 286,
     "metadata": {},
     "output_type": "execute_result"
    },
    {
     "data": {
      "text/html": [
       "<div>\n",
       "<style scoped>\n",
       "    .dataframe tbody tr th:only-of-type {\n",
       "        vertical-align: middle;\n",
       "    }\n",
       "\n",
       "    .dataframe tbody tr th {\n",
       "        vertical-align: top;\n",
       "    }\n",
       "\n",
       "    .dataframe thead th {\n",
       "        text-align: right;\n",
       "    }\n",
       "</style>\n",
       "<table border=\"1\" class=\"dataframe\">\n",
       "  <thead>\n",
       "    <tr style=\"text-align: right;\">\n",
       "      <th></th>\n",
       "      <th>arc_index</th>\n",
       "      <th>arc_index_inv</th>\n",
       "    </tr>\n",
       "  </thead>\n",
       "  <tbody>\n",
       "  </tbody>\n",
       "</table>\n",
       "</div>"
      ],
      "text/plain": [
       "Empty DataFrame\n",
       "Columns: [arc_index, arc_index_inv]\n",
       "Index: []"
      ]
     },
     "execution_count": 286,
     "metadata": {},
     "output_type": "execute_result"
    },
    {
     "data": {
      "text/html": [
       "<div>\n",
       "<style scoped>\n",
       "    .dataframe tbody tr th:only-of-type {\n",
       "        vertical-align: middle;\n",
       "    }\n",
       "\n",
       "    .dataframe tbody tr th {\n",
       "        vertical-align: top;\n",
       "    }\n",
       "\n",
       "    .dataframe thead th {\n",
       "        text-align: right;\n",
       "    }\n",
       "</style>\n",
       "<table border=\"1\" class=\"dataframe\">\n",
       "  <thead>\n",
       "    <tr style=\"text-align: right;\">\n",
       "      <th></th>\n",
       "      <th>arc_index</th>\n",
       "      <th>arc_index_inv</th>\n",
       "    </tr>\n",
       "  </thead>\n",
       "  <tbody>\n",
       "  </tbody>\n",
       "</table>\n",
       "</div>"
      ],
      "text/plain": [
       "Empty DataFrame\n",
       "Columns: [arc_index, arc_index_inv]\n",
       "Index: []"
      ]
     },
     "execution_count": 286,
     "metadata": {},
     "output_type": "execute_result"
    }
   ],
   "source": [
    "inv_list_test.loc[inv_list_test.duplicated(['arc_index'])]\n",
    "inv_list_test.loc[inv_list_test.duplicated(['arc_index_inv'])]\n",
    "inv_list_test.loc[~inv_list_test['arc_index'].isin(inv_list_test['arc_index_inv'])]\n",
    "inv_list_test.loc[~inv_list_test['arc_index_inv'].isin(inv_list_test['arc_index'])]"
   ]
  },
  {
   "cell_type": "code",
   "execution_count": 145,
   "metadata": {},
   "outputs": [],
   "source": [
    "for i, row in inv_list_test.iterrows():\n",
    "    arc1, inv_arc1 = row[['arc_index', 'arc_index_inv']]\n",
    "    arc2, inv_arc2 = inv_list_test.loc[inv_list_test['arc_index'] == inv_arc1].iloc[0][['arc_index', 'arc_index_inv']]\n",
    "    assert arc1 == inv_arc2\n",
    "    assert inv_arc1 == arc2"
   ]
  },
  {
   "cell_type": "code",
   "execution_count": 287,
   "metadata": {},
   "outputs": [],
   "source": [
    "network_info.load_required_arcs(req_arcs)"
   ]
  },
  {
   "cell_type": "code",
   "execution_count": 288,
   "metadata": {},
   "outputs": [
    {
     "ename": "AttributeError",
     "evalue": "'NetworkExtract' object has no attribute 'edges_list'",
     "output_type": "error",
     "traceback": [
      "\u001b[0;31m---------------------------------------------------------------------------\u001b[0m",
      "\u001b[0;31mAttributeError\u001b[0m                            Traceback (most recent call last)",
      "\u001b[0;32m<ipython-input-288-79a2253aa608>\u001b[0m in \u001b[0;36m<module>\u001b[0;34m\u001b[0m\n\u001b[0;32m----> 1\u001b[0;31m \u001b[0mreq_arcs_full\u001b[0m \u001b[0;34m=\u001b[0m \u001b[0mreq_arcs\u001b[0m\u001b[0;34m.\u001b[0m\u001b[0mmerge\u001b[0m\u001b[0;34m(\u001b[0m\u001b[0mnetwork_inv\u001b[0m\u001b[0;34m.\u001b[0m\u001b[0medges_list\u001b[0m\u001b[0;34m,\u001b[0m \u001b[0mhow\u001b[0m\u001b[0;34m=\u001b[0m\u001b[0;34m'left'\u001b[0m\u001b[0;34m)\u001b[0m\u001b[0;34m\u001b[0m\u001b[0;34m\u001b[0m\u001b[0m\n\u001b[0m",
      "\u001b[0;31mAttributeError\u001b[0m: 'NetworkExtract' object has no attribute 'edges_list'"
     ]
    }
   ],
   "source": [
    "req_arcs_full = req_arcs.merge(network_inv.edges_list, how='left')"
   ]
  },
  {
   "cell_type": "code",
   "execution_count": 198,
   "metadata": {},
   "outputs": [
    {
     "data": {
      "text/html": [
       "<div>\n",
       "<style scoped>\n",
       "    .dataframe tbody tr th:only-of-type {\n",
       "        vertical-align: middle;\n",
       "    }\n",
       "\n",
       "    .dataframe tbody tr th {\n",
       "        vertical-align: top;\n",
       "    }\n",
       "\n",
       "    .dataframe thead th {\n",
       "        text-align: right;\n",
       "    }\n",
       "</style>\n",
       "<table border=\"1\" class=\"dataframe\">\n",
       "  <thead>\n",
       "    <tr style=\"text-align: right;\">\n",
       "      <th></th>\n",
       "      <th>u_orig</th>\n",
       "      <th>v_orig</th>\n",
       "      <th>u</th>\n",
       "      <th>v</th>\n",
       "      <th>key</th>\n",
       "      <th>osmid</th>\n",
       "      <th>lanes</th>\n",
       "      <th>highway</th>\n",
       "      <th>service</th>\n",
       "      <th>oneway</th>\n",
       "      <th>...</th>\n",
       "      <th>width</th>\n",
       "      <th>arc_id</th>\n",
       "      <th>arc_id_orig</th>\n",
       "      <th>arc_id_ordered</th>\n",
       "      <th>arc_id_ordered_orig</th>\n",
       "      <th>parallel</th>\n",
       "      <th>index_right</th>\n",
       "      <th>Name</th>\n",
       "      <th>arc_index</th>\n",
       "      <th>arc_index_inv</th>\n",
       "    </tr>\n",
       "  </thead>\n",
       "  <tbody>\n",
       "  </tbody>\n",
       "</table>\n",
       "<p>0 rows × 29 columns</p>\n",
       "</div>"
      ],
      "text/plain": [
       "Empty GeoDataFrame\n",
       "Columns: [u_orig, v_orig, u, v, key, osmid, lanes, highway, service, oneway, length, geometry, name, maxspeed, bridge, tunnel, ref, access, junction, width, arc_id, arc_id_orig, arc_id_ordered, arc_id_ordered_orig, parallel, index_right, Name, arc_index, arc_index_inv]\n",
       "Index: []\n",
       "\n",
       "[0 rows x 29 columns]"
      ]
     },
     "execution_count": 198,
     "metadata": {},
     "output_type": "execute_result"
    },
    {
     "data": {
      "text/html": [
       "<div>\n",
       "<style scoped>\n",
       "    .dataframe tbody tr th:only-of-type {\n",
       "        vertical-align: middle;\n",
       "    }\n",
       "\n",
       "    .dataframe tbody tr th {\n",
       "        vertical-align: top;\n",
       "    }\n",
       "\n",
       "    .dataframe thead th {\n",
       "        text-align: right;\n",
       "    }\n",
       "</style>\n",
       "<table border=\"1\" class=\"dataframe\">\n",
       "  <thead>\n",
       "    <tr style=\"text-align: right;\">\n",
       "      <th></th>\n",
       "      <th>u_orig</th>\n",
       "      <th>v_orig</th>\n",
       "      <th>u</th>\n",
       "      <th>v</th>\n",
       "      <th>key</th>\n",
       "      <th>osmid</th>\n",
       "      <th>lanes</th>\n",
       "      <th>highway</th>\n",
       "      <th>service</th>\n",
       "      <th>oneway</th>\n",
       "      <th>...</th>\n",
       "      <th>width</th>\n",
       "      <th>arc_id</th>\n",
       "      <th>arc_id_orig</th>\n",
       "      <th>arc_id_ordered</th>\n",
       "      <th>arc_id_ordered_orig</th>\n",
       "      <th>parallel</th>\n",
       "      <th>index_right</th>\n",
       "      <th>Name</th>\n",
       "      <th>arc_index</th>\n",
       "      <th>arc_index_inv</th>\n",
       "    </tr>\n",
       "  </thead>\n",
       "  <tbody>\n",
       "  </tbody>\n",
       "</table>\n",
       "<p>0 rows × 29 columns</p>\n",
       "</div>"
      ],
      "text/plain": [
       "Empty GeoDataFrame\n",
       "Columns: [u_orig, v_orig, u, v, key, osmid, lanes, highway, service, oneway, length, geometry, name, maxspeed, bridge, tunnel, ref, access, junction, width, arc_id, arc_id_orig, arc_id_ordered, arc_id_ordered_orig, parallel, index_right, Name, arc_index, arc_index_inv]\n",
       "Index: []\n",
       "\n",
       "[0 rows x 29 columns]"
      ]
     },
     "execution_count": 198,
     "metadata": {},
     "output_type": "execute_result"
    }
   ],
   "source": [
    "req_arcs_full.loc[req_arcs_full['arc_index'].isin(req_arcs_full['arc_index_inv'])]\n",
    "req_arcs_full.loc[req_arcs_full['arc_index_inv'].isin(req_arcs_full['arc_index'])]"
   ]
  },
  {
   "cell_type": "code",
   "execution_count": 199,
   "metadata": {},
   "outputs": [],
   "source": [
    "og_list = req_arcs_full['arc_index']\n",
    "inverse_list = req_arcs_full['arc_index_inv'].dropna()\n",
    "full_list = pd.concat([og_list, inverse_list])\n",
    "full_list = full_list.sort_values().astype(int).values"
   ]
  },
  {
   "cell_type": "code",
   "execution_count": 200,
   "metadata": {},
   "outputs": [
    {
     "data": {
      "text/plain": [
       "array([  692,   693,   893,  1594,  1960,  2146,  2250,  2347,  2484,\n",
       "        2728,  2916,  3577,  3608,  3984,  4659,  4839,  4929,  4930,\n",
       "        5072,  5625,  6709,  6815,  7010,  7041,  7145,  7461,  7648,\n",
       "        8298,  8385,  8692,  8812,  8968,  9617,  9813, 10493, 11418,\n",
       "       11601, 11604, 12058, 12061, 12587, 13166, 13259, 13393, 13449,\n",
       "       13457, 13804, 13915, 13922, 14075, 14163, 14221, 14254, 14688,\n",
       "       14777, 15248, 15328, 15412, 15486, 15487, 15605, 15761, 15795,\n",
       "       16014, 16070, 16838, 16864, 16998, 17408, 17414, 17812, 17820,\n",
       "       17888, 18337, 18661, 18680, 18871, 18878, 18969, 19460, 19583,\n",
       "       19601, 19607, 19647, 19648, 20000, 20007, 20157, 20184, 20418,\n",
       "       20419, 21179, 22684, 23036, 23037, 23259, 23393, 23411, 23419,\n",
       "       23535, 23990, 24028, 24032, 24119, 24237, 24651, 24652, 25417,\n",
       "       25458, 25463, 25466, 25471, 25530, 25570, 25714, 25764, 25879,\n",
       "       25884, 25947, 26126, 26263, 26775, 26781, 27234, 27304, 27306,\n",
       "       27382, 27426, 27434, 27554, 27728, 28035, 28152, 28155, 28255,\n",
       "       28717, 29063, 29276, 29962, 30400, 30663, 31778, 31893, 31905,\n",
       "       31906, 32126, 32158, 32322, 32446, 32448, 32452])"
      ]
     },
     "execution_count": 200,
     "metadata": {},
     "output_type": "execute_result"
    }
   ],
   "source": [
    "full_list"
   ]
  },
  {
   "cell_type": "code",
   "execution_count": 225,
   "metadata": {},
   "outputs": [],
   "source": [
    "req_inv_list = pd.DataFrame({'arc_index': full_list, 'arc_index_inv': inv_list.iloc[full_list]['arc_index_inv'].values})"
   ]
  },
  {
   "cell_type": "code",
   "execution_count": 226,
   "metadata": {},
   "outputs": [],
   "source": [
    "req_inv_list['req_arc_index'] = req_inv_list.index"
   ]
  },
  {
   "cell_type": "code",
   "execution_count": 227,
   "metadata": {},
   "outputs": [],
   "source": [
    "req_inv_list_pure = req_inv_list[['req_arc_index', 'arc_index_inv']]\n",
    "req_inv_list_pure.columns = ['req_arc_index_inv', 'arc_index']\n",
    "req_inv_list_pure = req_inv_list_pure.dropna().astype(int)"
   ]
  },
  {
   "cell_type": "code",
   "execution_count": 228,
   "metadata": {},
   "outputs": [
    {
     "data": {
      "text/html": [
       "<div>\n",
       "<style scoped>\n",
       "    .dataframe tbody tr th:only-of-type {\n",
       "        vertical-align: middle;\n",
       "    }\n",
       "\n",
       "    .dataframe tbody tr th {\n",
       "        vertical-align: top;\n",
       "    }\n",
       "\n",
       "    .dataframe thead th {\n",
       "        text-align: right;\n",
       "    }\n",
       "</style>\n",
       "<table border=\"1\" class=\"dataframe\">\n",
       "  <thead>\n",
       "    <tr style=\"text-align: right;\">\n",
       "      <th></th>\n",
       "      <th>req_arc_index_inv</th>\n",
       "      <th>arc_index</th>\n",
       "    </tr>\n",
       "  </thead>\n",
       "  <tbody>\n",
       "    <tr>\n",
       "      <th>0</th>\n",
       "      <td>0</td>\n",
       "      <td>693</td>\n",
       "    </tr>\n",
       "    <tr>\n",
       "      <th>1</th>\n",
       "      <td>1</td>\n",
       "      <td>692</td>\n",
       "    </tr>\n",
       "    <tr>\n",
       "      <th>7</th>\n",
       "      <td>7</td>\n",
       "      <td>7041</td>\n",
       "    </tr>\n",
       "    <tr>\n",
       "      <th>8</th>\n",
       "      <td>8</td>\n",
       "      <td>7145</td>\n",
       "    </tr>\n",
       "    <tr>\n",
       "      <th>10</th>\n",
       "      <td>10</td>\n",
       "      <td>7461</td>\n",
       "    </tr>\n",
       "    <tr>\n",
       "      <th>...</th>\n",
       "      <td>...</td>\n",
       "      <td>...</td>\n",
       "    </tr>\n",
       "    <tr>\n",
       "      <th>146</th>\n",
       "      <td>146</td>\n",
       "      <td>31778</td>\n",
       "    </tr>\n",
       "    <tr>\n",
       "      <th>147</th>\n",
       "      <td>147</td>\n",
       "      <td>26781</td>\n",
       "    </tr>\n",
       "    <tr>\n",
       "      <th>148</th>\n",
       "      <td>148</td>\n",
       "      <td>32448</td>\n",
       "    </tr>\n",
       "    <tr>\n",
       "      <th>149</th>\n",
       "      <td>149</td>\n",
       "      <td>32446</td>\n",
       "    </tr>\n",
       "    <tr>\n",
       "      <th>150</th>\n",
       "      <td>150</td>\n",
       "      <td>27554</td>\n",
       "    </tr>\n",
       "  </tbody>\n",
       "</table>\n",
       "<p>114 rows × 2 columns</p>\n",
       "</div>"
      ],
      "text/plain": [
       "     req_arc_index_inv  arc_index\n",
       "0                    0        693\n",
       "1                    1        692\n",
       "7                    7       7041\n",
       "8                    8       7145\n",
       "10                  10       7461\n",
       "..                 ...        ...\n",
       "146                146      31778\n",
       "147                147      26781\n",
       "148                148      32448\n",
       "149                149      32446\n",
       "150                150      27554\n",
       "\n",
       "[114 rows x 2 columns]"
      ]
     },
     "execution_count": 228,
     "metadata": {},
     "output_type": "execute_result"
    }
   ],
   "source": [
    "req_inv_list_pure"
   ]
  },
  {
   "cell_type": "code",
   "execution_count": 236,
   "metadata": {},
   "outputs": [],
   "source": [
    "req_inv_list = req_inv_list.merge(req_inv_list_pure, how='left')\n",
    "req_inv_list = req_inv_list.replace({np.nan: None})"
   ]
  },
  {
   "cell_type": "code",
   "execution_count": 249,
   "metadata": {},
   "outputs": [],
   "source": [
    "req_inv_list_info = req_inv_list['req_arc_index_inv'].values"
   ]
  }
 ],
 "metadata": {
  "kernelspec": {
   "display_name": "Python 3.8 (waste_labs_examples jupyterlab)",
   "language": "python",
   "name": "waste_labs_examples"
  },
  "language_info": {
   "codemirror_mode": {
    "name": "ipython",
    "version": 3
   },
   "file_extension": ".py",
   "mimetype": "text/x-python",
   "name": "python",
   "nbconvert_exporter": "python",
   "pygments_lexer": "ipython3",
   "version": "3.8.2"
  }
 },
 "nbformat": 4,
 "nbformat_minor": 4
}
