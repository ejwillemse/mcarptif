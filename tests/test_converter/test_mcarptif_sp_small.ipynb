{
 "cells": [
  {
   "cell_type": "markdown",
   "metadata": {},
   "source": [
    "# Test Belenguer format converter"
   ]
  },
  {
   "cell_type": "code",
   "execution_count": 7,
   "metadata": {},
   "outputs": [
    {
     "name": "stderr",
     "output_type": "stream",
     "text": [
      "DEBUG:root:This will get logged\n"
     ]
    },
    {
     "name": "stdout",
     "output_type": "stream",
     "text": [
      "The autoreload extension is already loaded. To reload it, use:\n",
      "  %reload_ext autoreload\n"
     ]
    }
   ],
   "source": [
    "%load_ext autoreload\n",
    "%autoreload 2\n",
    "\n",
    "import os\n",
    "import sys\n",
    "import importlib\n",
    "import cProfile\n",
    "import pandas as pd\n",
    "sys.path.insert(0, os.path.abspath('../../'))\n",
    "import logging\n",
    "logging.basicConfig(level=logging.DEBUG)\n",
    "logging.debug('This will get logged')\n",
    "\n",
    "import tables as tb"
   ]
  },
  {
   "cell_type": "code",
   "execution_count": 8,
   "metadata": {},
   "outputs": [],
   "source": [
    "from converter.input_converter import Converter\n",
    "from converter.import_Belenguer_format import convert_file\n",
    "import converter.py_data_write as py_data_write\n",
    "import converter.shortest_paths as shortest_paths\n",
    "from converter import load_instance\n",
    "from converter import Network"
   ]
  },
  {
   "cell_type": "code",
   "execution_count": 9,
   "metadata": {},
   "outputs": [],
   "source": [
    "file = '../../data/Lpr_IF/Lpr_IF-c-05.txt'\n",
    "file_path = file"
   ]
  },
  {
   "cell_type": "code",
   "execution_count": 10,
   "metadata": {},
   "outputs": [
    {
     "name": "stdout",
     "output_type": "stream",
     "text": [
      "CPU times: user 11 µs, sys: 1 µs, total: 12 µs\n",
      "Wall time: 15 µs\n"
     ]
    }
   ],
   "source": [
    "%%time\n",
    "conv = Converter(file_path, out_to_in=True, overwrite=True)"
   ]
  },
  {
   "cell_type": "code",
   "execution_count": 11,
   "metadata": {},
   "outputs": [
    {
     "name": "stdout",
     "output_type": "stream",
     "text": [
      "'Converting ../../data/Lpr_IF/Lpr_IF-c-05.txt...'\n",
      "CPU times: user 582 ms, sys: 71.2 ms, total: 653 ms\n",
      "Wall time: 586 ms\n"
     ]
    }
   ],
   "source": [
    "%%time\n",
    "instance_info = conv.extract_inputs()"
   ]
  },
  {
   "cell_type": "code",
   "execution_count": 12,
   "metadata": {},
   "outputs": [],
   "source": [
    "success_array = np.array([np.array(x) for x in instance_info['sucArcL']])\n",
    "instance_df = pd.DataFrame({'arc_u': instance_info['beginL'], 'arc_v': instance_info['endL'], 'arc_cost': instance_info['travelCostL']})\n",
    "instance_df['arc_index'] = instance_df.index.values\n",
    "instance_df['arc_inverse_index'] = instance_info['invArcL']\n",
    "instance_df['arc_inverse_index'] = instance_df['arc_inverse_index'].fillna(-1).astype(int)\n",
    "instance_df.loc[instance_df['arc_inverse_index'] == -1, 'arc_oneway'] = True\n",
    "instance_df.loc[instance_df['arc_inverse_index'] != -1, 'arc_oneway'] = False\n",
    "instance_df['arc_successor_index_list'] = np.nan\n",
    "instance_df['arc_successor_index_list'] = instance_df['arc_successor_index_list'].astype(object)\n",
    "instance_df.at[:, 'arc_successor_index_list'] = success_array"
   ]
  },
  {
   "cell_type": "code",
   "execution_count": 13,
   "metadata": {},
   "outputs": [
    {
     "name": "stdout",
     "output_type": "stream",
     "text": [
      "'Converting ../../data/Lpr_IF/Lpr_IF-c-05.txt...'\n"
     ]
    }
   ],
   "source": [
    "instance_df2 = convert_file(file)"
   ]
  },
  {
   "cell_type": "code",
   "execution_count": 14,
   "metadata": {},
   "outputs": [
    {
     "data": {
      "text/plain": [
       "True"
      ]
     },
     "execution_count": 14,
     "metadata": {},
     "output_type": "execute_result"
    }
   ],
   "source": [
    "pd._testing.array_equivalent(instance_df, instance_df2)"
   ]
  },
  {
   "cell_type": "code",
   "execution_count": 15,
   "metadata": {},
   "outputs": [
    {
     "data": {
      "text/html": [
       "<div>\n",
       "<style scoped>\n",
       "    .dataframe tbody tr th:only-of-type {\n",
       "        vertical-align: middle;\n",
       "    }\n",
       "\n",
       "    .dataframe tbody tr th {\n",
       "        vertical-align: top;\n",
       "    }\n",
       "\n",
       "    .dataframe thead th {\n",
       "        text-align: right;\n",
       "    }\n",
       "</style>\n",
       "<table border=\"1\" class=\"dataframe\">\n",
       "  <thead>\n",
       "    <tr style=\"text-align: right;\">\n",
       "      <th></th>\n",
       "      <th>arc_u</th>\n",
       "      <th>arc_v</th>\n",
       "      <th>arc_cost</th>\n",
       "      <th>arc_index</th>\n",
       "      <th>arc_inverse_index</th>\n",
       "      <th>arc_oneway</th>\n",
       "      <th>arc_successor_index_list</th>\n",
       "    </tr>\n",
       "  </thead>\n",
       "  <tbody>\n",
       "    <tr>\n",
       "      <th>0</th>\n",
       "      <td>1</td>\n",
       "      <td>1</td>\n",
       "      <td>0</td>\n",
       "      <td>0</td>\n",
       "      <td>0</td>\n",
       "      <td>False</td>\n",
       "      <td>[0, 264, 265, 266, 869]</td>\n",
       "    </tr>\n",
       "    <tr>\n",
       "      <th>1</th>\n",
       "      <td>184</td>\n",
       "      <td>184</td>\n",
       "      <td>0</td>\n",
       "      <td>1</td>\n",
       "      <td>1</td>\n",
       "      <td>False</td>\n",
       "      <td>[1, 248, 249, 852, 853]</td>\n",
       "    </tr>\n",
       "    <tr>\n",
       "      <th>2</th>\n",
       "      <td>368</td>\n",
       "      <td>368</td>\n",
       "      <td>0</td>\n",
       "      <td>2</td>\n",
       "      <td>2</td>\n",
       "      <td>False</td>\n",
       "      <td>[2, 454, 455, 1162]</td>\n",
       "    </tr>\n",
       "    <tr>\n",
       "      <th>3</th>\n",
       "      <td>2</td>\n",
       "      <td>3</td>\n",
       "      <td>12</td>\n",
       "      <td>3</td>\n",
       "      <td>-1</td>\n",
       "      <td>True</td>\n",
       "      <td>[41, 42, 463]</td>\n",
       "    </tr>\n",
       "    <tr>\n",
       "      <th>4</th>\n",
       "      <td>7</td>\n",
       "      <td>8</td>\n",
       "      <td>19</td>\n",
       "      <td>4</td>\n",
       "      <td>-1</td>\n",
       "      <td>True</td>\n",
       "      <td>[45, 473, 475]</td>\n",
       "    </tr>\n",
       "    <tr>\n",
       "      <th>...</th>\n",
       "      <td>...</td>\n",
       "      <td>...</td>\n",
       "      <td>...</td>\n",
       "      <td>...</td>\n",
       "      <td>...</td>\n",
       "      <td>...</td>\n",
       "      <td>...</td>\n",
       "    </tr>\n",
       "    <tr>\n",
       "      <th>1226</th>\n",
       "      <td>365</td>\n",
       "      <td>364</td>\n",
       "      <td>16</td>\n",
       "      <td>1226</td>\n",
       "      <td>1225</td>\n",
       "      <td>False</td>\n",
       "      <td>[450, 1224, 1225]</td>\n",
       "    </tr>\n",
       "    <tr>\n",
       "      <th>1227</th>\n",
       "      <td>365</td>\n",
       "      <td>366</td>\n",
       "      <td>23</td>\n",
       "      <td>1227</td>\n",
       "      <td>1228</td>\n",
       "      <td>False</td>\n",
       "      <td>[1228, 1229]</td>\n",
       "    </tr>\n",
       "    <tr>\n",
       "      <th>1228</th>\n",
       "      <td>366</td>\n",
       "      <td>365</td>\n",
       "      <td>23</td>\n",
       "      <td>1228</td>\n",
       "      <td>1227</td>\n",
       "      <td>False</td>\n",
       "      <td>[451, 452, 1226, 1227]</td>\n",
       "    </tr>\n",
       "    <tr>\n",
       "      <th>1229</th>\n",
       "      <td>366</td>\n",
       "      <td>367</td>\n",
       "      <td>20</td>\n",
       "      <td>1229</td>\n",
       "      <td>1230</td>\n",
       "      <td>False</td>\n",
       "      <td>[453, 1198, 1230]</td>\n",
       "    </tr>\n",
       "    <tr>\n",
       "      <th>1230</th>\n",
       "      <td>367</td>\n",
       "      <td>366</td>\n",
       "      <td>20</td>\n",
       "      <td>1230</td>\n",
       "      <td>1229</td>\n",
       "      <td>False</td>\n",
       "      <td>[1228, 1229]</td>\n",
       "    </tr>\n",
       "  </tbody>\n",
       "</table>\n",
       "<p>1231 rows × 7 columns</p>\n",
       "</div>"
      ],
      "text/plain": [
       "      arc_u  arc_v  arc_cost  arc_index  arc_inverse_index arc_oneway  \\\n",
       "0         1      1         0          0                  0      False   \n",
       "1       184    184         0          1                  1      False   \n",
       "2       368    368         0          2                  2      False   \n",
       "3         2      3        12          3                 -1       True   \n",
       "4         7      8        19          4                 -1       True   \n",
       "...     ...    ...       ...        ...                ...        ...   \n",
       "1226    365    364        16       1226               1225      False   \n",
       "1227    365    366        23       1227               1228      False   \n",
       "1228    366    365        23       1228               1227      False   \n",
       "1229    366    367        20       1229               1230      False   \n",
       "1230    367    366        20       1230               1229      False   \n",
       "\n",
       "     arc_successor_index_list  \n",
       "0     [0, 264, 265, 266, 869]  \n",
       "1     [1, 248, 249, 852, 853]  \n",
       "2         [2, 454, 455, 1162]  \n",
       "3               [41, 42, 463]  \n",
       "4              [45, 473, 475]  \n",
       "...                       ...  \n",
       "1226        [450, 1224, 1225]  \n",
       "1227             [1228, 1229]  \n",
       "1228   [451, 452, 1226, 1227]  \n",
       "1229        [453, 1198, 1230]  \n",
       "1230             [1228, 1229]  \n",
       "\n",
       "[1231 rows x 7 columns]"
      ]
     },
     "execution_count": 15,
     "metadata": {},
     "output_type": "execute_result"
    }
   ],
   "source": [
    "instance_df2"
   ]
  },
  {
   "cell_type": "code",
   "execution_count": 16,
   "metadata": {},
   "outputs": [],
   "source": [
    "instance_df3 = instance_df2[['arc_u', 'arc_v', 'arc_cost']]"
   ]
  },
  {
   "cell_type": "code",
   "execution_count": 17,
   "metadata": {},
   "outputs": [],
   "source": [
    "network = Network(instance_df3)"
   ]
  },
  {
   "cell_type": "code",
   "execution_count": 18,
   "metadata": {},
   "outputs": [],
   "source": [
    "network.update_network_df()"
   ]
  },
  {
   "cell_type": "code",
   "execution_count": 21,
   "metadata": {},
   "outputs": [
    {
     "data": {
      "text/plain": [
       "False"
      ]
     },
     "execution_count": 21,
     "metadata": {},
     "output_type": "execute_result"
    }
   ],
   "source": [
    "pd._testing.array_equivalent(network.network_df, instance_df2[['arc_u', 'arc_v', 'arc_cost', 'arc_index', 'arc_successor_index_list']])"
   ]
  },
  {
   "cell_type": "code",
   "execution_count": null,
   "metadata": {},
   "outputs": [],
   "source": []
  }
 ],
 "metadata": {
  "kernelspec": {
   "display_name": "Python 3.8 (waste_labs_examples jupyterlab)",
   "language": "python",
   "name": "waste_labs_examples"
  },
  "language_info": {
   "codemirror_mode": {
    "name": "ipython",
    "version": 3
   },
   "file_extension": ".py",
   "mimetype": "text/x-python",
   "name": "python",
   "nbconvert_exporter": "python",
   "pygments_lexer": "ipython3",
   "version": "3.8.2"
  }
 },
 "nbformat": 4,
 "nbformat_minor": 4
}
