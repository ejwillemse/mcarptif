{
 "cells": [
  {
   "cell_type": "markdown",
   "metadata": {},
   "source": [
    "# Test pytables SP calculations full"
   ]
  },
  {
   "cell_type": "markdown",
   "metadata": {},
   "source": [
    "Test pytables SP calculations."
   ]
  },
  {
   "cell_type": "code",
   "execution_count": 1,
   "metadata": {},
   "outputs": [
    {
     "name": "stderr",
     "output_type": "stream",
     "text": [
      "DEBUG:root:This will get logged\n",
      "INFO:numexpr.utils:NumExpr defaulting to 8 threads.\n"
     ]
    }
   ],
   "source": [
    "%load_ext autoreload\n",
    "%autoreload 2\n",
    "\n",
    "import pyximport\n",
    "import os\n",
    "import sys\n",
    "import importlib\n",
    "import cProfile\n",
    "import pandas as pd\n",
    "import numpy as np\n",
    "sys.path.insert(0, os.path.abspath('../../'))\n",
    "import logging\n",
    "logging.basicConfig(level=logging.DEBUG)\n",
    "logging.debug('This will get logged')\n",
    "\n",
    "import tables as tb\n",
    "from tables import File, Table\n",
    "from tables.file import _checkfilters\n",
    "\n",
    "# Show all code cells outputs\n",
    "from IPython.core.interactiveshell import InteractiveShell\n",
    "InteractiveShell.ast_node_interactivity = 'all'"
   ]
  },
  {
   "cell_type": "code",
   "execution_count": null,
   "metadata": {},
   "outputs": [],
   "source": [
    "from converter.input_converter import Converter\n",
    "from converter.import_Belenguer_format import convert_file\n",
    "import converter.py_data_write as py_data_write\n",
    "import converter.shortest_paths as shortest_paths\n",
    "from converter import load_instance\n",
    "from converter import Network\n",
    "from converter import ShortestPath"
   ]
  },
  {
   "cell_type": "code",
   "execution_count": 4,
   "metadata": {},
   "outputs": [],
   "source": [
    "file = 'temp/landed_recycling_GeylangKalangToaPayoh' "
   ]
  },
  {
   "cell_type": "code",
   "execution_count": 9,
   "metadata": {},
   "outputs": [
    {
     "data": {
      "text/plain": [
       "array([[   0,  336, 1966, ..., 2090, 2082, 2090],\n",
       "       [ 332,    0, 1758, ..., 1947, 1950, 1947],\n",
       "       [1928, 1718,    0, ...,  604,  612,  604],\n",
       "       ...,\n",
       "       [2029, 1974,  611, ...,    0,    0,    8],\n",
       "       [2021, 1966,  608, ...,    0,    0,    0],\n",
       "       [2029, 1974,  611, ...,    8,    0,    0]], dtype=int32)"
      ]
     },
     "execution_count": 9,
     "metadata": {},
     "output_type": "execute_result"
    },
    {
     "data": {
      "text/plain": [
       "array([[    0, 11078,  9684, ..., 13350, 12510, 12519],\n",
       "       [10998,     1,  9684, ..., 12518, 12510, 12519],\n",
       "       [10998, 11078,     0, ..., 12518, 12510, 12519],\n",
       "       ...,\n",
       "       [11245, 11078,  9684, ...,     0, 12510, 12519],\n",
       "       [11245, 11078,  9684, ..., 12518,     0, 13352],\n",
       "       [11245, 11078,  9684, ..., 13350, 13353,     0]], dtype=int32)"
      ]
     },
     "execution_count": 9,
     "metadata": {},
     "output_type": "execute_result"
    }
   ],
   "source": [
    "with tb.open_file('{}_fixed_test_play.h5'.format(file), 'r') as h5file:\n",
    "    sp_info = h5file.root.shortest_path_info\n",
    "    cost_matrix = sp_info.cost_matrix\n",
    "    predecessor_matrix = sp_info.predecessor_matrix\n",
    "    cost_matrix[:, :]\n",
    "    predecessor_matrix[:, :]"
   ]
  },
  {
   "cell_type": "code",
   "execution_count": null,
   "metadata": {},
   "outputs": [],
   "source": []
  },
  {
   "cell_type": "code",
   "execution_count": null,
   "metadata": {},
   "outputs": [],
   "source": [
    "np.array_equal(d_test, cost_matrix)\n",
    "np.array_equal(p_test, predecessor_matrix)"
   ]
  }
 ],
 "metadata": {
  "kernelspec": {
   "display_name": "Python 3.8 (waste_labs_examples jupyterlab)",
   "language": "python",
   "name": "waste_labs_examples"
  },
  "language_info": {
   "codemirror_mode": {
    "name": "ipython",
    "version": 3
   },
   "file_extension": ".py",
   "mimetype": "text/x-python",
   "name": "python",
   "nbconvert_exporter": "python",
   "pygments_lexer": "ipython3",
   "version": "3.8.2"
  }
 },
 "nbformat": 4,
 "nbformat_minor": 4
}
